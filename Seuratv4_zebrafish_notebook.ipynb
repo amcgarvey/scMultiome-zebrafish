{
 "cells": [
  {
   "cell_type": "markdown",
   "metadata": {},
   "source": [
    "# Multiome seurat v4\n",
    "\n",
    "Running seurat on first batch of multiome data from zebrafish samples. Aligned with cellranger-arc count using the reference which added ensembl IDs to lines with missing gene name attributes [cellranger-arc-mkref.md](cellranger-arc-mkref.md).\n",
    "From https://satijalab.org/seurat/articles/weighted_nearest_neighbor_analysis.html"
   ]
  },
  {
   "cell_type": "markdown",
   "metadata": {},
   "source": [
    "* [Loading packages](#packages)"
   ]
  },
  {
   "cell_type": "markdown",
   "metadata": {},
   "source": [
    "## Loading packages <a class=\"anchor\" id=\"packages\"></a>"
   ]
  },
  {
   "cell_type": "code",
   "execution_count": null,
   "metadata": {},
   "outputs": [],
   "source": [
    "library(Seurat)\n",
    "library(Signac)\n",
    "library(dplyr)\n",
    "library(ggplot2)\n",
    "library(hdf5r)\n",
    "library(BSgenome.Drerio.UCSC.danRer11)\n",
    "library(presto)\n",
    "                "
   ]
  },
  {
   "cell_type": "markdown",
   "metadata": {},
   "source": [
    "Create the seurat object starting from the filtered_feature_bc_matrix.h5 file (file format that can contain multidimensional arrays of scientific data) output from cellranger-arc count."
   ]
  },
  {
   "cell_type": "code",
   "execution_count": 3,
   "metadata": {},
   "outputs": [
    {
     "name": "stderr",
     "output_type": "stream",
     "text": [
      "Warning message in sparseMatrix(i = indices[] + 1, p = indptr[], x = as.numeric(x = counts[]), :\n",
      "\"'giveCsparse' has been deprecated; setting 'repr = \"T\"' for you\"\n",
      "Genome matrix has multiple modalities, returning a list of matrices for this genome\n",
      "\n"
     ]
    }
   ],
   "source": [
    "# the 10x hdf5 file contains both data types. \n",
    "inputdata.10x <- Read10X_h5(\"multiome-sample/outs/filtered_feature_bc_matrix.h5\")\n",
    "\n",
    "# extract RNA and ATAC data\n",
    "rna_counts <- inputdata.10x$`Gene Expression`\n",
    "atac_counts <- inputdata.10x$Peaks"
   ]
  },
  {
   "cell_type": "markdown",
   "metadata": {},
   "source": [
    "Create the seurat object from the RNA data and calculate the percentage mitochondiral reads. N.B. zebrafish has lower case naming convention (^mt-) rather than the uppcase convention for human."
   ]
  },
  {
   "cell_type": "code",
   "execution_count": 4,
   "metadata": {},
   "outputs": [
    {
     "name": "stderr",
     "output_type": "stream",
     "text": [
      "Warning message:\n",
      "\"Feature names cannot have underscores ('_'), replacing with dashes ('-')\"\n"
     ]
    }
   ],
   "source": [
    "fish <- CreateSeuratObject(counts = rna_counts)\n",
    "fish[[\"percent.mt\"]] <- PercentageFeatureSet(fish, pattern = \"^mt-\")"
   ]
  },
  {
   "cell_type": "code",
   "execution_count": 5,
   "metadata": {},
   "outputs": [],
   "source": [
    "# Now add in the ATAC-seq data\n",
    "# we'll only use peaks in standard chromosomes\n",
    "grange.counts <- StringToGRanges(rownames(atac_counts), sep = c(\":\", \"-\"))\n",
    "grange.use <- seqnames(grange.counts) %in% standardChromosomes(grange.counts)\n",
    "atac_counts <- atac_counts[as.vector(grange.use), ]\n"
   ]
  },
  {
   "cell_type": "markdown",
   "metadata": {},
   "source": [
    "Add annotations for the chromatin assay. The seurat tutorials say use EnsDb.Hsapiens.v86, but this doesn't exist for zebrafish. Instead the annotations can be extracted from the gtf file."
   ]
  },
  {
   "cell_type": "code",
   "execution_count": 7,
   "metadata": {},
   "outputs": [],
   "source": [
    "library(BSgenome.Drerio.UCSC.danRer11)\n",
    "\n",
    "gtf <- rtracklayer::import('Danio_rerio.GRCz11.103.gtf.replaced.filtered.chr', format=\"gtf\")\n",
    "gene.coords <- gtf[gtf$type == 'gene' ]\n",
    "seqlevelsStyle(gene.coords) <- 'UCSC'\n",
    "gene.coords <- keepStandardChromosomes(gene.coords, pruning.mode = 'coarse')\n",
    "\n",
    "frag.file <- \"multiome-sample/outs/atac_fragments.tsv.gz\"\n",
    "chrom_assay <- CreateChromatinAssay(\n",
    "   counts = atac_counts,\n",
    "   sep = c(\":\", \"-\"),\n",
    "   genome = 'danRer11',\n",
    "   fragments = frag.file,\n",
    "   min.cells = 10,\n",
    "   annotation = gene.coords\n",
    " )\n",
    "fish[[\"ATAC\"]] <- chrom_assay"
   ]
  },
  {
   "cell_type": "markdown",
   "metadata": {},
   "source": [
    "Now you can proceed with the rest of the tutorial https://satijalab.org/seurat/articles/weighted_nearest_neighbor_analysis.html"
   ]
  }
 ],
 "metadata": {
  "kernelspec": {
   "display_name": "R [conda env:seurat4]",
   "language": "R",
   "name": "conda-env-seurat4-r"
  },
  "language_info": {
   "codemirror_mode": "r",
   "file_extension": ".r",
   "mimetype": "text/x-r-source",
   "name": "R",
   "pygments_lexer": "r",
   "version": "4.0.0"
  }
 },
 "nbformat": 4,
 "nbformat_minor": 5
}
